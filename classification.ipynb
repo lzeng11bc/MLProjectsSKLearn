{
  "nbformat": 4,
  "nbformat_minor": 0,
  "metadata": {
    "colab": {
      "name": "classification.ipynb",
      "provenance": [],
      "collapsed_sections": [],
      "machine_shape": "hm",
      "authorship_tag": "ABX9TyNgudrdd8QwIsnz3c4AtkPb",
      "include_colab_link": true
    },
    "kernelspec": {
      "name": "python3",
      "display_name": "Python 3"
    },
    "accelerator": "GPU"
  },
  "cells": [
    {
      "cell_type": "markdown",
      "metadata": {
        "id": "view-in-github",
        "colab_type": "text"
      },
      "source": [
        "<a href=\"https://colab.research.google.com/github/lzeng11bc/MLProjectsSKLearn/blob/master/classification.ipynb\" target=\"_parent\"><img src=\"https://colab.research.google.com/assets/colab-badge.svg\" alt=\"Open In Colab\"/></a>"
      ]
    },
    {
      "cell_type": "markdown",
      "metadata": {
        "id": "Sg2dhxQFH8pE"
      },
      "source": [
        "# Chapter 3 Classification\n"
      ]
    },
    {
      "cell_type": "markdown",
      "metadata": {
        "id": "CKdZlrkAIMz5"
      },
      "source": [
        "## MNIST\n",
        "***Featch the MNIST Dataset***"
      ]
    },
    {
      "cell_type": "code",
      "metadata": {
        "colab": {
          "base_uri": "https://localhost:8080/"
        },
        "id": "DT7DKw9IIVTd",
        "outputId": "ee16f066-6ff0-448d-adbe-835385bb2296"
      },
      "source": [
        "from sklearn.datasets import fetch_openml\n",
        "mnist = fetch_openml('mnist_784', version=1)\n",
        "mnist.keys()"
      ],
      "execution_count": 1,
      "outputs": [
        {
          "output_type": "execute_result",
          "data": {
            "text/plain": [
              "dict_keys(['data', 'target', 'frame', 'feature_names', 'target_names', 'DESCR', 'details', 'categories', 'url'])"
            ]
          },
          "metadata": {
            "tags": []
          },
          "execution_count": 1
        }
      ]
    },
    {
      "cell_type": "markdown",
      "metadata": {
        "id": "jviOl_xnIqzh"
      },
      "source": [
        "* **Datasets loaded by SK-Learn generally have a similar dictioanry strucutre including**\n",
        "    * **A** DESCR **key describing the dataset**\n",
        "    * **A** data **key contaiing an array with one row per instance and one column per feature**\n",
        "    * **A** target **key containing an array with labels**"
      ]
    },
    {
      "cell_type": "code",
      "metadata": {
        "colab": {
          "base_uri": "https://localhost:8080/"
        },
        "id": "LV7-yjTOJAs9",
        "outputId": "92428ebc-c2e0-464d-8d6c-2a1e360611d8"
      },
      "source": [
        "X, y = mnist[\"data\"], mnist['target']\n",
        "X.shape"
      ],
      "execution_count": 2,
      "outputs": [
        {
          "output_type": "execute_result",
          "data": {
            "text/plain": [
              "(70000, 784)"
            ]
          },
          "metadata": {
            "tags": []
          },
          "execution_count": 2
        }
      ]
    },
    {
      "cell_type": "code",
      "metadata": {
        "colab": {
          "base_uri": "https://localhost:8080/"
        },
        "id": "4AbMOGhEJKgm",
        "outputId": "69acb795-b809-40b8-fd75-c9209b1b79c0"
      },
      "source": [
        "y.shape"
      ],
      "execution_count": 3,
      "outputs": [
        {
          "output_type": "execute_result",
          "data": {
            "text/plain": [
              "(70000,)"
            ]
          },
          "metadata": {
            "tags": []
          },
          "execution_count": 3
        }
      ]
    },
    {
      "cell_type": "markdown",
      "metadata": {
        "id": "QQbnG549JTJO"
      },
      "source": [
        "**There are 70,000 images, and each image has 784 features.**\n",
        "* **This is because each image is 28 x 28 pixels, and each feature simply represents one pixel's intensity, from 0(white) to 255(black).**"
      ]
    },
    {
      "cell_type": "markdown",
      "metadata": {
        "id": "OD958k2HJpAI"
      },
      "source": [
        "**Peek at one digit from the dataset**"
      ]
    },
    {
      "cell_type": "code",
      "metadata": {
        "colab": {
          "base_uri": "https://localhost:8080/",
          "height": 248
        },
        "id": "jMf8uQaxJvq4",
        "outputId": "da2aae22-122b-4ed0-b13f-7f767e46f0ff"
      },
      "source": [
        "import matplotlib as mpl\n",
        "import matplotlib.pyplot as plt\n",
        "\n",
        "some_digit = X[0]\n",
        "some_digit_image = some_digit.reshape(28, 28)\n",
        "\n",
        "plt.imshow(some_digit_image, cmap=mpl.cm.binary, interpolation=\"nearest\")\n",
        "plt.axis(\"off\")\n",
        "plt.show()"
      ],
      "execution_count": 4,
      "outputs": [
        {
          "output_type": "display_data",
          "data": {
            "image/png": "[encoded data removed]",
            "text/plain": [
              "<Figure size 432x288 with 1 Axes>"
            ]
          },
          "metadata": {
            "tags": [],
            "needs_background": "light"
          }
        }
      ]
    },
    {
      "cell_type": "code",
      "metadata": {
        "colab": {
          "base_uri": "https://localhost:8080/",
          "height": 37
        },
        "id": "YKwgMAZ3KNDU",
        "outputId": "abcf09d6-1097-44b8-cc33-d8d212960586"
      },
      "source": [
        "y[0]"
      ],
      "execution_count": 5,
      "outputs": [
        {
          "output_type": "execute_result",
          "data": {
            "application/vnd.google.colaboratory.intrinsic+json": {
              "type": "string"
            },
            "text/plain": [
              "'5'"
            ]
          },
          "metadata": {
            "tags": []
          },
          "execution_count": 5
        }
      ]
    },
    {
      "cell_type": "markdown",
      "metadata": {
        "id": "WALcivA4KQfc"
      },
      "source": [
        "**Cast labels into numbers**"
      ]
    },
    {
      "cell_type": "code",
      "metadata": {
        "id": "nZ7UiqS-KT0c"
      },
      "source": [
        "import numpy as np\n",
        "\n",
        "y = y.astype(np.uint8)"
      ],
      "execution_count": 6,
      "outputs": []
    },
    {
      "cell_type": "markdown",
      "metadata": {
        "id": "3mCrftKtKk-W"
      },
      "source": [
        "**Train Test Split**"
      ]
    },
    {
      "cell_type": "code",
      "metadata": {
        "id": "GD29WazxKqBf"
      },
      "source": [
        "X_train, X_test, y_train, y_test = X[:60000], X[60000:], y[:60000], y[60000:]"
      ],
      "execution_count": 7,
      "outputs": []
    },
    {
      "cell_type": "markdown",
      "metadata": {
        "id": "sKDjkv6MK67u"
      },
      "source": [
        "## Training a Binary Classifier\n",
        "* **The “5-detector\" will be an example of a binary classifier, capable of distinguishing between just two classes, 5 and not-5.**\n",
        "* **Let's create the target vectors for this classification task**"
      ]
    },
    {
      "cell_type": "code",
      "metadata": {
        "id": "Bu15bIDNMvYt"
      },
      "source": [
        "y_train_5 = (y_train == 5)\n",
        "y_test_5 = (y_test == 5)"
      ],
      "execution_count": 8,
      "outputs": []
    },
    {
      "cell_type": "markdown",
      "metadata": {
        "id": "_rVSTRLXM-ZW"
      },
      "source": [
        "**Create a SGDClassifier and train it on the whole training set**"
      ]
    },
    {
      "cell_type": "code",
      "metadata": {
        "colab": {
          "base_uri": "https://localhost:8080/"
        },
        "id": "OXF_ka1ZNHSX",
        "outputId": "f6ef8dd2-3dcc-42c0-81be-8cf7b2950b3a"
      },
      "source": [
        "from sklearn.linear_model import SGDClassifier\n",
        "\n",
        "sgd_clf = SGDClassifier(random_state=42)\n",
        "sgd_clf.fit(X_train, y_train_5)"
      ],
      "execution_count": 9,
      "outputs": [
        {
          "output_type": "execute_result",
          "data": {
            "text/plain": [
              "SGDClassifier(alpha=0.0001, average=False, class_weight=None,\n",
              "              early_stopping=False, epsilon=0.1, eta0=0.0, fit_intercept=True,\n",
              "              l1_ratio=0.15, learning_rate='optimal', loss='hinge',\n",
              "              max_iter=1000, n_iter_no_change=5, n_jobs=None, penalty='l2',\n",
              "              power_t=0.5, random_state=42, shuffle=True, tol=0.001,\n",
              "              validation_fraction=0.1, verbose=0, warm_start=False)"
            ]
          },
          "metadata": {
            "tags": []
          },
          "execution_count": 9
        }
      ]
    },
    {
      "cell_type": "markdown",
      "metadata": {
        "id": "eLs6ah5MNxKE"
      },
      "source": [
        "## Performance Measures\n",
        "\n",
        "### Measuring Accuracy Using Cross-Validation\n",
        "* **A good way to evalute a model is to use cross-validation**\n",
        "\n",
        "##### Implementing Custom Cross-Validation"
      ]
    },
    {
      "cell_type": "code",
      "metadata": {
        "colab": {
          "base_uri": "https://localhost:8080/"
        },
        "id": "DeI-2pPRQGxo",
        "outputId": "a96f940a-89ff-46b5-965d-fb3c3ccc646e"
      },
      "source": [
        "from sklearn.model_selection import StratifiedKFold\n",
        "from sklearn.base import clone\n",
        "\n",
        "skfolds = StratifiedKFold(n_splits=3, random_state=42)\n",
        "\n",
        "for train_index, test_index in skfolds.split(X_train, y_train_5):\n",
        "    clone_clf = clone(sgd_clf)\n",
        "    X_train_folds = X_train[train_index]\n",
        "    y_train_folds = y_train_5[train_index]\n",
        "    X_test_fold = X_train[test_index]\n",
        "    y_test_fold = y_train_5[test_index]\n",
        "\n",
        "    clone_clf.fit(X_train_folds, y_train_folds)\n",
        "    y_pred = clone_clf.predict(X_test_fold)\n",
        "    n_correct = sum(y_pred == y_test_fold)\n",
        "    print(n_correct / len(y_pred)) # prints 0.9502, 0.96565 and 0.96495"
      ],
      "execution_count": 10,
      "outputs": [
        {
          "output_type": "stream",
          "text": [
            "/usr/local/lib/python3.7/dist-packages/sklearn/model_selection/_split.py:296: FutureWarning: Setting a random_state has no effect since shuffle is False. This will raise an error in 0.24. You should leave random_state to its default (None), or set shuffle=True.\n",
            "  FutureWarning\n"
          ],
          "name": "stderr"
        },
        {
          "output_type": "stream",
          "text": [
            "0.95035\n",
            "0.96035\n",
            "0.9604\n"
          ],
          "name": "stdout"
        }
      ]
    },
    {
      "cell_type": "markdown",
      "metadata": {
        "id": "NJxsPK16Rasw"
      },
      "source": [
        "* **The** StratifiedKFold **class performs stratified sampling to produce folds that contain a representative ratio of each class**\n",
        "* **At each iteration the code creates a clone of the classifier, trains that clone on the training folds, and makes predictions on the test folds**"
      ]
    },
    {
      "cell_type": "markdown",
      "metadata": {
        "id": "O8KuyFFESYWm"
      },
      "source": [
        "* **Let's use the** cross_val_socre( ) **function to evaluate your** SGDClassifier **model using K-fold cross-validation, with three folds**\n",
        "* K-fold **cross-validation means splitting the training set into K-folds, then making predictions and evaluationg them on each fold using a model trained on the remaining folds.**"
      ]
    },
    {
      "cell_type": "code",
      "metadata": {
        "colab": {
          "base_uri": "https://localhost:8080/"
        },
        "id": "IECcl6Y9Suc5",
        "outputId": "8196cdf8-714d-4668-826a-085b4aa8eb36"
      },
      "source": [
        "from sklearn.model_selection import cross_val_score\n",
        "\n",
        "cross_val_score(sgd_clf, X_train, y_train_5, scoring=\"accuracy\")"
      ],
      "execution_count": 11,
      "outputs": [
        {
          "output_type": "execute_result",
          "data": {
            "text/plain": [
              "array([0.95466667, 0.96975   , 0.9635    , 0.96533333, 0.94841667])"
            ]
          },
          "metadata": {
            "tags": []
          },
          "execution_count": 11
        }
      ]
    },
    {
      "cell_type": "markdown",
      "metadata": {
        "id": "LREmEjA5UB0h"
      },
      "source": [
        "**Create a classifier that classifies every image in the \"not-5\" class**"
      ]
    },
    {
      "cell_type": "code",
      "metadata": {
        "id": "kthwxJhhULBh"
      },
      "source": [
        "from sklearn.base import BaseEstimator\n",
        "\n",
        "class Never5Classifier(BaseEstimator):\n",
        "    def fit(self, X, y=None):\n",
        "        pass\n",
        "    def predict(self, X):\n",
        "        return np.zeros((len(X), 1), dtype=bool)"
      ],
      "execution_count": 12,
      "outputs": []
    },
    {
      "cell_type": "markdown",
      "metadata": {
        "id": "J5VXhmyYWxJq"
      },
      "source": [
        "**Find the model's accuracy**"
      ]
    },
    {
      "cell_type": "code",
      "metadata": {
        "colab": {
          "base_uri": "https://localhost:8080/"
        },
        "id": "NeeiCataW3Tq",
        "outputId": "79584bc7-4aab-4f7a-c3bc-e3a9a22621fe"
      },
      "source": [
        "never_5_clf = Never5Classifier()\n",
        "cross_val_score(never_5_clf, X_train, y_train_5, cv=3, scoring=\"accuracy\")"
      ],
      "execution_count": 13,
      "outputs": [
        {
          "output_type": "execute_result",
          "data": {
            "text/plain": [
              "array([0.91125, 0.90855, 0.90915])"
            ]
          },
          "metadata": {
            "tags": []
          },
          "execution_count": 13
        }
      ]
    },
    {
      "cell_type": "markdown",
      "metadata": {
        "id": "TWoRXKCmXDxj"
      },
      "source": [
        "* **This has demonstrated why accuracy is genrally not the preferred performance measure for classifiers, especially when you are dealing with *skewed datasets***"
      ]
    },
    {
      "cell_type": "markdown",
      "metadata": {
        "id": "HAxht775ljNX"
      },
      "source": [
        "### Confusion Matrix"
      ]
    },
    {
      "cell_type": "markdown",
      "metadata": {
        "id": "1M-BetmJl0OF"
      },
      "source": [
        "* **A much better way to evaluate the performance of a classifier is to look at the *confusion matrix***\n",
        "    * **The general idea is to count the number of times instances of class A are classified as class B.**\n",
        "* **To compute the confusion matrix, you first need to have a set of predictions, so they can be compared to the actual targets.**"
      ]
    },
    {
      "cell_type": "markdown",
      "metadata": {
        "id": "_bRR8qGYmVL2"
      },
      "source": [
        "**Apply the** cross\\_val\\_predict( ) **function**"
      ]
    },
    {
      "cell_type": "code",
      "metadata": {
        "id": "NXOlLnBtmZ3e"
      },
      "source": [
        "from sklearn.model_selection import cross_val_predict\n",
        "\n",
        "y_train_pred = cross_val_predict(sgd_clf, X_train, y_train_5, cv=3)"
      ],
      "execution_count": 14,
      "outputs": []
    },
    {
      "cell_type": "markdown",
      "metadata": {
        "id": "-vGkkcNImmA3"
      },
      "source": [
        "* **Just like the** cross\\_val\\_score( ) **function,** cross\\_val\\_predict( ) **performs K-fold cross-validation, but instead of returning the evluation scores, it returns the predictions made on each test fold**\n",
        "* **This means that you get a clean prediction for each instance in the training set(\"clean\" meaning that the prediction is made by a model that never saw the data during training)**"
      ]
    },
    {
      "cell_type": "markdown",
      "metadata": {
        "id": "xHKGgDoUm3GS"
      },
      "source": [
        "* **Get the confusion matrix**"
      ]
    },
    {
      "cell_type": "code",
      "metadata": {
        "colab": {
          "base_uri": "https://localhost:8080/"
        },
        "id": "0c0FbDH8nL4T",
        "outputId": "e9d5e7aa-1a5b-49d4-b0ea-0630131c6cc9"
      },
      "source": [
        "from sklearn.metrics import confusion_matrix\n",
        "\n",
        "confusion_matrix(y_train_5, y_train_pred)"
      ],
      "execution_count": 15,
      "outputs": [
        {
          "output_type": "execute_result",
          "data": {
            "text/plain": [
              "array([[53892,   687],\n",
              "       [ 1891,  3530]])"
            ]
          },
          "metadata": {
            "tags": []
          },
          "execution_count": 15
        }
      ]
    },
    {
      "cell_type": "markdown",
      "metadata": {
        "id": "NYQE7G9LoxUc"
      },
      "source": [
        "* **Each row in a confusion matrix represents an *actual class*, while each column represents a *predicted class***\n",
        "    * **The first row of this matrix considers the negative class: true negatives and false positives**\n",
        "    * **The second row considers positive class: flase negatives and true positives**\n",
        "* **A perfect classifier would have only true positives and true negatives, so its confusion matrix would have nonzero values only on its main diagonal**"
      ]
    },
    {
      "cell_type": "code",
      "metadata": {
        "colab": {
          "base_uri": "https://localhost:8080/"
        },
        "id": "s97Ir0jipi2Z",
        "outputId": "8594f730-863f-4009-967a-18199031f377"
      },
      "source": [
        "y_train_perfect_predictions = y_train_5\n",
        "confusion_matrix(y_train_5, y_train_perfect_predictions)"
      ],
      "execution_count": 16,
      "outputs": [
        {
          "output_type": "execute_result",
          "data": {
            "text/plain": [
              "array([[54579,     0],\n",
              "       [    0,  5421]])"
            ]
          },
          "metadata": {
            "tags": []
          },
          "execution_count": 16
        }
      ]
    },
    {
      "cell_type": "markdown",
      "metadata": {
        "id": "0GjQxdx3p29L"
      },
      "source": [
        "![Screen Shot 2021-03-03 at 1.54.58 PM.png](data:image/png;base64,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)"
      ]
    },
    {
      "cell_type": "markdown",
      "metadata": {
        "id": "O3LCeijGp6qj"
      },
      "source": [
        "* **TP is the number of true positives, and FP is the number of false positives**"
      ]
    },
    {
      "cell_type": "markdown",
      "metadata": {
        "id": "Xem5zO_AqQyO"
      },
      "source": [
        "* **Precision is typically used along with another metric named *recall*, also called *sensitivity* or *true positive rate(TPR)*: this is the ratio of positive instances that are correctly detected by the classifier**"
      ]
    },
    {
      "cell_type": "markdown",
      "metadata": {
        "id": "wZfsH44Oqp5Y"
      },
      "source": [
        "![Screen Shot 2021-03-03 at 1.58.16 PM.png](data:image/png;base64,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)"
      ]
    },
    {
      "cell_type": "markdown",
      "metadata": {
        "id": "c5J1u0q-quc4"
      },
      "source": [
        "* **FN is the number of false negatives**"
      ]
    },
    {
      "cell_type": "markdown",
      "metadata": {
        "id": "V0fYoGkErdae"
      },
      "source": [
        "### Precision and Recall\n",
        "* **SK-Learn provides several functions to compute classifier metrics, including precision and recall**"
      ]
    },
    {
      "cell_type": "code",
      "metadata": {
        "colab": {
          "base_uri": "https://localhost:8080/"
        },
        "id": "16tVez5Rrmgg",
        "outputId": "fc79e243-5c54-4c69-d3c7-595b598cba2e"
      },
      "source": [
        "from sklearn.metrics import precision_score, recall_score\n",
        "\n",
        "precision_score(y_train_5, y_train_pred)\n"
      ],
      "execution_count": 17,
      "outputs": [
        {
          "output_type": "execute_result",
          "data": {
            "text/plain": [
              "0.8370879772350012"
            ]
          },
          "metadata": {
            "tags": []
          },
          "execution_count": 17
        }
      ]
    },
    {
      "cell_type": "code",
      "metadata": {
        "colab": {
          "base_uri": "https://localhost:8080/"
        },
        "id": "dKzLTJSHrwy_",
        "outputId": "16991b6f-9a2e-4e41-bbda-87aa3d6dd05f"
      },
      "source": [
        "recall_score(y_train_5, y_train_pred)"
      ],
      "execution_count": 18,
      "outputs": [
        {
          "output_type": "execute_result",
          "data": {
            "text/plain": [
              "0.6511713705958311"
            ]
          },
          "metadata": {
            "tags": []
          },
          "execution_count": 18
        }
      ]
    },
    {
      "cell_type": "markdown",
      "metadata": {
        "id": "BV8r_0YYr8WA"
      },
      "source": [
        "* **It is often convenient to combine precision and recall into a single metric called the $F_1$ score, particularyly if youy need a simple way to compare the two classifiers**\n",
        "* **The $F_1$ score is the *harmonice mean* of precision and recall**\n",
        "    * **The harmonic mean gives much more weight to low values.**"
      ]
    },
    {
      "cell_type": "markdown",
      "metadata": {
        "id": "aAR4_Pn7sUj6"
      },
      "source": [
        "![Screen Shot 2021-03-03 at 2.05.44 PM.png](data:image/png;base64,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)"
      ]
    },
    {
      "cell_type": "code",
      "metadata": {
        "colab": {
          "base_uri": "https://localhost:8080/"
        },
        "id": "VvvVPNrgsps9",
        "outputId": "36a27534-f309-48c4-dc3a-be67221eccab"
      },
      "source": [
        "from sklearn.metrics import f1_score\n",
        "f1_score(y_train_5, y_train_pred)"
      ],
      "execution_count": 19,
      "outputs": [
        {
          "output_type": "execute_result",
          "data": {
            "text/plain": [
              "0.7325171197343846"
            ]
          },
          "metadata": {
            "tags": []
          },
          "execution_count": 19
        }
      ]
    },
    {
      "cell_type": "markdown",
      "metadata": {
        "id": "cpVEafcltF0_"
      },
      "source": [
        "**$F_1$ score favors classifiers that have similar precision and recall**"
      ]
    },
    {
      "cell_type": "markdown",
      "metadata": {
        "id": "Hpsf3SkftNIG"
      },
      "source": [
        "### Precision/Recall Tradeoff\n",
        "* **SK-Lean does not let you set the threshold directly, but it does give you access to the decision scores taht it uses to make predictions.**\n",
        "    * **Insted of calling the classifier's** predict( ) **method, you can call its** decision\\_function( ) **method, which returns a score for each instances, and then make predictions based on those scores using any threshold you want**"
      ]
    },
    {
      "cell_type": "code",
      "metadata": {
        "id": "rfvSm5RL5IkY"
      },
      "source": [
        "y_scores = sgd_clf.decision_function([some_digit])"
      ],
      "execution_count": 20,
      "outputs": []
    },
    {
      "cell_type": "code",
      "metadata": {
        "colab": {
          "base_uri": "https://localhost:8080/"
        },
        "id": "bDB2MlLl_CWx",
        "outputId": "00e65af2-e8fb-44d4-b252-332d1b8fb37d"
      },
      "source": [
        "y_scores"
      ],
      "execution_count": 21,
      "outputs": [
        {
          "output_type": "execute_result",
          "data": {
            "text/plain": [
              "array([2164.22030239])"
            ]
          },
          "metadata": {
            "tags": []
          },
          "execution_count": 21
        }
      ]
    },
    {
      "cell_type": "code",
      "metadata": {
        "id": "HxNhOPdc_EdS"
      },
      "source": [
        "threshold = 0\n",
        "y_some_digit_pred = (y_scores > threshold)"
      ],
      "execution_count": 22,
      "outputs": []
    },
    {
      "cell_type": "markdown",
      "metadata": {
        "id": "YEJ8FHxe_MTr"
      },
      "source": [
        "* **The** SGDClassifier **uses a threshold equal to 0, so the previous code returns the same result as the** predict( ) **method**\n",
        "* **Now let's raise the threshold**"
      ]
    },
    {
      "cell_type": "code",
      "metadata": {
        "colab": {
          "base_uri": "https://localhost:8080/"
        },
        "id": "cpxMRJYR_cXt",
        "outputId": "0d5d2048-0bf9-4105-fb91-0e042c7af55e"
      },
      "source": [
        "threshold = 8000\n",
        "y_some_digit_pred = (y_scores > threshold)\n",
        "y_some_digit_pred"
      ],
      "execution_count": 23,
      "outputs": [
        {
          "output_type": "execute_result",
          "data": {
            "text/plain": [
              "array([False])"
            ]
          },
          "metadata": {
            "tags": []
          },
          "execution_count": 23
        }
      ]
    },
    {
      "cell_type": "markdown",
      "metadata": {
        "id": "tjH7D2ZI_mVY"
      },
      "source": [
        "##### Decide which threshold to use?\n",
        "* **You will first need to get the scores of all instances in the training set using the** cross\\_val\\_predict( ) **function, this time specifying that you want it to return decision scores instead of predictions**"
      ]
    },
    {
      "cell_type": "code",
      "metadata": {
        "id": "C9ttrc-n_7AP"
      },
      "source": [
        "y_scores = cross_val_predict(sgd_clf, X_train, y_train_5, cv=3, method=\"decision_function\")"
      ],
      "execution_count": 24,
      "outputs": []
    },
    {
      "cell_type": "markdown",
      "metadata": {
        "id": "SVKZKdNzAEkI"
      },
      "source": [
        "**Compute the precision and recall for all possible thresholds using** precision\\_recall\\_curve( ) "
      ]
    },
    {
      "cell_type": "code",
      "metadata": {
        "id": "fmTdJJtYATiK"
      },
      "source": [
        "from sklearn.metrics import precision_recall_curve\n",
        "precisions, recalls, thresholds = precision_recall_curve(y_train_5, y_scores)"
      ],
      "execution_count": 25,
      "outputs": []
    },
    {
      "cell_type": "markdown",
      "metadata": {
        "id": "2GU71nABAo-c"
      },
      "source": [
        "**Plot precision and recall as functions of the threshold value using Matplotlib**"
      ]
    },
    {
      "cell_type": "code",
      "metadata": {
        "colab": {
          "base_uri": "https://localhost:8080/",
          "height": 265
        },
        "id": "O3sZl11rAuwc",
        "outputId": "ede9dadf-7c0a-416d-8f51-781152b09915"
      },
      "source": [
        "def plot_precision_recall_vs_threshold(precisions, recalls, thresholds):\n",
        "    plt.plot(thresholds, precisions[:-1], \"b--\", label=\"Precision\")\n",
        "    plt.plot(thresholds, recalls[:-1], \"g-\", label=\"Recall\")\n",
        "    plt.legend()\n",
        "\n",
        "plot_precision_recall_vs_threshold(precisions, recalls, thresholds)\n",
        "plt.show()"
      ],
      "execution_count": 26,
      "outputs": [
        {
          "output_type": "display_data",
          "data": {
            "image/png": "[encoded data removed]",
            "text/plain": [
              "<Figure size 432x288 with 1 Axes>"
            ]
          },
          "metadata": {
            "tags": [],
            "needs_background": "light"
          }
        }
      ]
    },
    {
      "cell_type": "markdown",
      "metadata": {
        "id": "8S3F_pUmBiiC"
      },
      "source": [
        "**Anotehr way to select a good precision/recall tradeoff is to plot precision directly against recall**"
      ]
    },
    {
      "cell_type": "markdown",
      "metadata": {
        "id": "eHjw5artBp7i"
      },
      "source": [
        "**Search for the lowest threshold that gives you at least 90% precision(** np.argmax( ) **will gve us the first index of the maximum value, which in this case means the first** True **value**"
      ]
    },
    {
      "cell_type": "code",
      "metadata": {
        "colab": {
          "base_uri": "https://localhost:8080/"
        },
        "id": "M9QSix1kCvrR",
        "outputId": "a325149d-a23c-4aee-942d-01fa0991a5cd"
      },
      "source": [
        "threshold_90_precision = thresholds[np.argmax(precisions>=0.90)] \n",
        "threshold_90_precision"
      ],
      "execution_count": 27,
      "outputs": [
        {
          "output_type": "execute_result",
          "data": {
            "text/plain": [
              "3370.0194991439557"
            ]
          },
          "metadata": {
            "tags": []
          },
          "execution_count": 27
        }
      ]
    },
    {
      "cell_type": "markdown",
      "metadata": {
        "id": "yPY3zqKJC70L"
      },
      "source": [
        "**To make predictions, run the following code**"
      ]
    },
    {
      "cell_type": "code",
      "metadata": {
        "colab": {
          "base_uri": "https://localhost:8080/"
        },
        "id": "JdXEOGzbC_wS",
        "outputId": "d5b9b898-80e4-4d72-db51-ad819fbbc830"
      },
      "source": [
        "y_train_pred_90 = (y_scores >= threshold_90_precision)\n",
        "y_train_pred_90"
      ],
      "execution_count": 28,
      "outputs": [
        {
          "output_type": "execute_result",
          "data": {
            "text/plain": [
              "array([False, False, False, ...,  True, False, False])"
            ]
          },
          "metadata": {
            "tags": []
          },
          "execution_count": 28
        }
      ]
    },
    {
      "cell_type": "markdown",
      "metadata": {
        "id": "tzDBr5PaDI9D"
      },
      "source": [
        "**Check the precision and recall**"
      ]
    },
    {
      "cell_type": "code",
      "metadata": {
        "colab": {
          "base_uri": "https://localhost:8080/"
        },
        "id": "34j2RIwWDK3L",
        "outputId": "f36d9486-0eed-47ef-b6ef-2e161862e601"
      },
      "source": [
        "precision_score(y_train_5, y_train_pred_90)"
      ],
      "execution_count": 29,
      "outputs": [
        {
          "output_type": "execute_result",
          "data": {
            "text/plain": [
              "0.9000345901072293"
            ]
          },
          "metadata": {
            "tags": []
          },
          "execution_count": 29
        }
      ]
    },
    {
      "cell_type": "code",
      "metadata": {
        "colab": {
          "base_uri": "https://localhost:8080/"
        },
        "id": "dIP_QNypDQPE",
        "outputId": "07ab6bc9-ff6a-4ad3-f193-f585d970b73f"
      },
      "source": [
        "recall_score(y_train_5, y_train_pred_90)"
      ],
      "execution_count": 30,
      "outputs": [
        {
          "output_type": "execute_result",
          "data": {
            "text/plain": [
              "0.4799852425751706"
            ]
          },
          "metadata": {
            "tags": []
          },
          "execution_count": 30
        }
      ]
    },
    {
      "cell_type": "markdown",
      "metadata": {
        "id": "01yX4BWVEJNh"
      },
      "source": [
        "### The ROC Curve\n",
        "* **The *receiver operating characteristic*(ROC) curve is another common tool used with binary classifiers**\n",
        "* **The ROC curve plots the *true positive rate* against the *false positive rate*.**\n",
        "\n",
        "##### FPR \n",
        "* **The FPR is the ratios of negative instances that are incorretly classified as positive**\n",
        "* **It is equal to one mins the *true negative rate*, which is the ratio of negative instances that are correctly classified as negative**\n",
        "* **The TNR is also called *specificity*. Hence ROC curve plots *sensitivity*(recall) versus 1 - *specificity***"
      ]
    },
    {
      "cell_type": "markdown",
      "metadata": {
        "id": "j5lP5_QkIaHk"
      },
      "source": [
        "* **To plot the ROC curve, you first need to compute the TPR and FPR for various threshold values, using the** roc\\_curve( ) **function**"
      ]
    },
    {
      "cell_type": "code",
      "metadata": {
        "id": "yqYaLZCIIVg7"
      },
      "source": [
        "from sklearn.metrics import roc_curve\n",
        "\n",
        "fpr, tpr, thresholds = roc_curve(y_train_5, y_scores)"
      ],
      "execution_count": 31,
      "outputs": []
    },
    {
      "cell_type": "markdown",
      "metadata": {
        "id": "VaZMLpyhIvBu"
      },
      "source": [
        "**Then you can plot the FPR agains the TPR using Matplotlib**"
      ]
    },
    {
      "cell_type": "code",
      "metadata": {
        "id": "0GBxAgeNI0QG"
      },
      "source": [
        "def plot_roc_curve(fpr, tpr, label=None):\n",
        "    plt.plot(fpr, tpr, linewidth=2, label=label)\n",
        "    plt.plot([0, 1], [0, 1], 'k--')"
      ],
      "execution_count": 32,
      "outputs": []
    },
    {
      "cell_type": "code",
      "metadata": {
        "colab": {
          "base_uri": "https://localhost:8080/",
          "height": 265
        },
        "id": "X8Kgc4wAJC6u",
        "outputId": "471b60b2-f3f5-4071-8516-05b25ebfdabe"
      },
      "source": [
        "plot_roc_curve(fpr, tpr)\n",
        "plt.show()"
      ],
      "execution_count": 33,
      "outputs": [
        {
          "output_type": "display_data",
          "data": {
            "image/png": "[encoded data removed]",
            "text/plain": [
              "<Figure size 432x288 with 1 Axes>"
            ]
          },
          "metadata": {
            "tags": [],
            "needs_background": "light"
          }
        }
      ]
    },
    {
      "cell_type": "markdown",
      "metadata": {
        "id": "PCT0KiJ4JaIK"
      },
      "source": [
        "**The higher the recall(TPR), the more false positives(FPR) the classifier produces**\n",
        "* **The dotted line represents the ROC curve of a purely random classifier; a good classifier stays as far wasy from that line as possible**"
      ]
    },
    {
      "cell_type": "markdown",
      "metadata": {
        "id": "hGGCCQpCJqcj"
      },
      "source": [
        "* **One way to compare the classifiers is to measure the *area under the curve***"
      ]
    },
    {
      "cell_type": "code",
      "metadata": {
        "colab": {
          "base_uri": "https://localhost:8080/"
        },
        "id": "66iEfYP_Jxbs",
        "outputId": "c2562a79-550f-4c8e-c819-854bcc711626"
      },
      "source": [
        "from sklearn.metrics import roc_auc_score\n",
        "roc_auc_score(y_train_5, y_scores)"
      ],
      "execution_count": 34,
      "outputs": [
        {
          "output_type": "execute_result",
          "data": {
            "text/plain": [
              "0.9604938554008616"
            ]
          },
          "metadata": {
            "tags": []
          },
          "execution_count": 34
        }
      ]
    },
    {
      "cell_type": "markdown",
      "metadata": {
        "id": "yxmMhmVqKX3A"
      },
      "source": [
        "**You should prefer the PR curve whenever the positive class is rare or when you care more about the false positives than false negatives, and the ROC curve otherwise**"
      ]
    },
    {
      "cell_type": "markdown",
      "metadata": {
        "id": "uakud_opLIbt"
      },
      "source": [
        "**Train a** RandomForestClassifier **and compare its ROC curve and ROC AUC socre to the** SGDClassifier"
      ]
    },
    {
      "cell_type": "code",
      "metadata": {
        "id": "YDP4RyMILQ6t"
      },
      "source": [
        "from sklearn.ensemble import RandomForestClassifier\n",
        "\n",
        "forest_clf = RandomForestClassifier(random_state=42)\n",
        "y_probas_forest = cross_val_predict(forest_clf, X_train, y_train_5, cv=3,\n",
        "                                    method=\"predict_proba\")"
      ],
      "execution_count": 35,
      "outputs": []
    },
    {
      "cell_type": "markdown",
      "metadata": {
        "id": "IjjuL7VHLvxu"
      },
      "source": [
        "* **we can use the positive class's probability as the score**"
      ]
    },
    {
      "cell_type": "code",
      "metadata": {
        "id": "1nR2WE_YL4Hw"
      },
      "source": [
        "y_scores_forest = y_probas_forest[:, 1] # score = proba of positive class\n",
        "fpr_forest, tpr_forest, thresholds_forest = roc_curve(y_train_5, y_scores_forest)"
      ],
      "execution_count": 36,
      "outputs": []
    },
    {
      "cell_type": "code",
      "metadata": {
        "id": "sR7_Cmd1MPRL",
        "colab": {
          "base_uri": "https://localhost:8080/",
          "height": 265
        },
        "outputId": "12ff3efb-7f92-4e99-8966-d842179ab5f3"
      },
      "source": [
        "plt.plot(fpr, tpr, \"b:\", label=\"SGD\")\n",
        "plot_roc_curve(fpr_forest, tpr_forest, \"Random Forest\")\n",
        "plt.legend(loc=\"lower right\")\n",
        "plt.show()"
      ],
      "execution_count": 37,
      "outputs": [
        {
          "output_type": "display_data",
          "data": {
            "image/png": "[encoded data removed]",
            "text/plain": [
              "<Figure size 432x288 with 1 Axes>"
            ]
          },
          "metadata": {
            "tags": [],
            "needs_background": "light"
          }
        }
      ]
    },
    {
      "cell_type": "markdown",
      "metadata": {
        "id": "RkdEcDMSMtLl"
      },
      "source": [
        "* **The** RandomForestClassifier **'s ROC curve looks much better than the** SGDClassifier's: **it comes closer to the top-left corner**\n",
        "* **It's ROC AUC score is also significantly better**"
      ]
    },
    {
      "cell_type": "markdown",
      "metadata": {
        "id": "LpozT0ciqkJf"
      },
      "source": [
        "### Multiclass Classification\n",
        "* **One way to create a system that can classify the digit images into 10 classes(from 0 to 9) is to train 10 binary classifier.**\n",
        "* **Then when you want to classify an image, you get the decision score from each classifier for that image and you select the class whose classifier otuputs the highest score. This is alled the *one-versus-all*(OvA) strategy(also called *one-versus-rest***"
      ]
    }
  ]
}